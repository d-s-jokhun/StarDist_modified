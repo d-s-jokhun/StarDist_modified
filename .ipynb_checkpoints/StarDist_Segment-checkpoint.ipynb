{
 "cells": [
  {
   "cell_type": "code",
   "execution_count": null,
   "metadata": {},
   "outputs": [],
   "source": [
    "import numpy as np\n",
    "import matplotlib.pyplot as plt\n",
    "%matplotlib inline\n",
    "%config InlineBackend.figure_format = 'retina'\n",
    "\n",
    "from glob import glob\n",
    "\n",
    "from stardist import random_label_cmap\n",
    "from stardist.models import StarDist2D\n",
    "\n",
    "lbl_cmap = random_label_cmap()"
   ]
  },
  {
   "cell_type": "markdown",
   "metadata": {},
   "source": [
    "# Loading the data"
   ]
  },
  {
   "cell_type": "code",
   "execution_count": null,
   "metadata": {},
   "outputs": [],
   "source": [
    "MasterPath_MdlTraining = os.path.abspath(\"//fs9.nus.edu.sg/bie/MBELab/jokhun/Pro 1/U2OS small mol screening/\")\n",
    "\n",
    "X_Train_Paths = sorted(glob(os.path.join(MasterPath_MdlTraining,'Raw_GrndTrth_ImgPairs',\"x_*.tif\")))\n",
    "Y_Train_Paths = sorted(glob(os.path.join(MasterPath_MdlTraining,'Raw_GrndTrth_ImgPairs',\"y_*.tif\")))\n",
    "\n",
    "print('No. of raw training paths : ',str(len(X_Train_Paths)))\n",
    "print('Raw training path 0 : ',str(X_Train_Paths[0]))                          \n",
    "print('\\nNo. of labelled training paths : ',str(len(Y_Train_Paths)))\n",
    "print('Labelled training path 0 : ',str(Y_Train_Paths[0]))"
   ]
  }
 ],
 "metadata": {
  "kernelspec": {
   "display_name": "Python 3",
   "language": "python",
   "name": "python3"
  },
  "language_info": {
   "codemirror_mode": {
    "name": "ipython",
    "version": 3
   },
   "file_extension": ".py",
   "mimetype": "text/x-python",
   "name": "python",
   "nbconvert_exporter": "python",
   "pygments_lexer": "ipython3",
   "version": "3.7.1"
  }
 },
 "nbformat": 4,
 "nbformat_minor": 4
}
