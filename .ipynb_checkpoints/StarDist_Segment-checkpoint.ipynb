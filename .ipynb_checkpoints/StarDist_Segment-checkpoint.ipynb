{
 "cells": [
  {
   "cell_type": "code",
   "execution_count": 1,
   "metadata": {},
   "outputs": [],
   "source": [
    "import matplotlib.pyplot as plt\n",
    "%matplotlib inline\n",
    "%config InlineBackend.figure_format = 'retina'\n",
    "import IDR_utils\n",
    "import os\n",
    "import numpy as np"
   ]
  },
  {
   "cell_type": "markdown",
   "metadata": {},
   "source": [
    "# Loading the data to segment"
   ]
  },
  {
   "cell_type": "markdown",
   "metadata": {},
   "source": [
    "#### Define the compound and Channel of interest.\n",
    "#### Define the path of the source images"
   ]
  },
  {
   "cell_type": "code",
   "execution_count": 2,
   "metadata": {},
   "outputs": [
    {
     "name": "stdout",
     "output_type": "stream",
     "text": [
      "No. of targets identified =  8\n",
      "No. of files to be downloaded =  0\n"
     ]
    }
   ],
   "source": [
    "# Getting a list of image paths and ground truths by consulting the IDR database\n",
    "\n",
    "CompoundsOfInterest=['paracetamol']\n",
    "ChannelsOfInterest=['Hoechst'] \n",
    "# ChannelsOfInterest=['Hoechst', 'ERSyto', 'ERSytoBleed', 'Ph_golgi', 'Mito']\n",
    "\n",
    "# Local source of images or path where images will be downloaded\n",
    "Local_ImgPath = os.path.abspath(r'\\\\fs9.nus.edu.sg\\bie\\MBELab\\jokhun\\Pro 1\\U2OS small mol screening\\RawImages')\n",
    "\n",
    "# idx_file = None # Use None to download the idx_file from IDR's github\n",
    "idx_file = './idr0016-screenA-annotation.csv'\n",
    "\n",
    "# Checking which all files have to be downloaded\n",
    "Targets, dwnld_args = IDR_utils.IDR_ImgAvailChk(CompoundsOfInterest, ChannelsOfInterest, Local_ImgPath, idx_file)"
   ]
  },
  {
   "cell_type": "code",
   "execution_count": null,
   "metadata": {},
   "outputs": [],
   "source": [
    "Downld_missing_files = False\n",
    "if Downld_missing_files:\n",
    "    IDR_utils.IDR_ImageFetcher (dwnld_args)\n",
    "else:\n",
    "    plates2remove=[(os.path.basename(arg[0]))[0:5] for arg in dwnld_args]\n",
    "    Targets=[Target for Target in Targets if Target['Plate'] not in plates2remove]"
   ]
  },
  {
   "cell_type": "markdown",
   "metadata": {},
   "source": [
    "#### Define the destination of the segmented images"
   ]
  },
  {
   "cell_type": "code",
   "execution_count": 6,
   "metadata": {},
   "outputs": [
    {
     "name": "stderr",
     "output_type": "stream",
     "text": [
      "C:\\Users\\biejds\\.conda\\envs\\StarDist\\lib\\site-packages\\ipykernel_launcher.py:9: FutureWarning: elementwise comparison failed; returning scalar instead, but in the future will perform elementwise comparison\n",
      "  if __name__ == '__main__':\n"
     ]
    }
   ],
   "source": [
    "assert len(ChannelsOfInterest) == 1, \"ChannelsOfInterest should contain only one value prior to segmentation\"\n",
    "assert len(CompoundsOfInterest) == 1, \"CompoundsOfInterest should contain only one value prior to segmentation\"\n",
    "\n",
    "SaveDir_of_SegmentedImg=os.path.abspath(os.path.join(r'\\\\fs9.nus.edu.sg\\bie\\MBELab\\jokhun\\Pro 1\\U2OS small mol screening\\Segmented',CompoundsOfInterest[0]))   \n",
    "\n",
    "# Checking is these images have already been segmented before and updating the list of images accordingly\n",
    "TargetPlates=np.unique([Target['Plate'] for Target in Targets])\n",
    "ExistingPlates=np.unique([name[0:5] for name in os.listdir(SaveDir_of_SegmentedImg)])\n",
    "TargetPlates=[TargetPlate for TargetPlate in TargetPlates if TargetPlate not in ExistingPlates]\n",
    "Targets=[Target for Target in Targets if Target['Plate'] in TargetPlates]\n"
   ]
  },
  {
   "cell_type": "code",
   "execution_count": 24,
   "metadata": {},
   "outputs": [],
   "source": [
    "# Generating list of files to be imported for segmentation\n",
    "SourcePaths = []\n",
    "for Target in Targets:\n",
    "    source_folder = os.path.abspath(os.path.join(Local_ImgPath,f\"{Target['Plate']}-{ChannelsOfInterest[0]}\"))\n",
    "    Well = Target['Well'].lower()\n",
    "    if len(Well)<3:\n",
    "        Well = str(Well[0]+'0'+Well[1])\n",
    "    Well = str('_'+Well+'_')\n",
    "    files = [file for file in os.listdir(source_folder) if Well in file]\n",
    "    for file in files:\n",
    "        SourcePaths.append(os.path.abspath(os.path.join(source_folder,file))) "
   ]
  },
  {
   "cell_type": "markdown",
   "metadata": {},
   "source": [
    "# Loading StarDist Model"
   ]
  },
  {
   "cell_type": "code",
   "execution_count": null,
   "metadata": {},
   "outputs": [],
   "source": []
  }
 ],
 "metadata": {
  "kernelspec": {
   "display_name": "Python 3",
   "language": "python",
   "name": "python3"
  },
  "language_info": {
   "codemirror_mode": {
    "name": "ipython",
    "version": 3
   },
   "file_extension": ".py",
   "mimetype": "text/x-python",
   "name": "python",
   "nbconvert_exporter": "python",
   "pygments_lexer": "ipython3",
   "version": "3.7.1"
  }
 },
 "nbformat": 4,
 "nbformat_minor": 4
}
