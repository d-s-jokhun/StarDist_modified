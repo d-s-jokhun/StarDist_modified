{
 "cells": [
  {
   "cell_type": "code",
   "execution_count": null,
   "metadata": {},
   "outputs": [],
   "source": [
    "def IDR_ImagePathsGetter(CompoundsOfInterest, ChannelsOfInterest, idx_file):\n",
    "    \n",
    "    if idx_file is None:\n",
    "        url = 'https://raw.githubusercontent.com/d-s-jokhun/idr-metadata/master/idr0016-wawer-bioactivecompoundprofiling/screenA/idr0016-screenA-annotation.csv'\n",
    "        idx_file = str(os.path.basename(url))\n",
    "        r = requests.get(url)\n",
    "        with open(idx_file, 'w') as idxfile:\n",
    "            idxfile.write(r.text)\n",
    "    \n",
    "    TargetsOfInterest=[]\n",
    "    with open(idx_file, newline='') as idxfile:\n",
    "        idx_reader = csv.DictReader(idxfile,fieldnames=None, restkey=None, restval=None, dialect='excel')\n",
    "        for row in idx_reader:\n",
    "            if CompoundsOfInterest.count(row['Compound Name']) > 0 :\n",
    "                PlatesOfInterest.append(row['Plate'])\n",
    "    \n",
    "    \n",
    "    return paths, GrndTrth"
   ]
  },
  {
   "cell_type": "code",
   "execution_count": 5,
   "metadata": {},
   "outputs": [
    {
     "name": "stdout",
     "output_type": "stream",
     "text": [
      "success\n"
     ]
    }
   ],
   "source": [
    "a= None\n",
    "if a is None:\n",
    "    print('success')"
   ]
  },
  {
   "cell_type": "code",
   "execution_count": null,
   "metadata": {},
   "outputs": [],
   "source": []
  }
 ],
 "metadata": {
  "kernelspec": {
   "display_name": "Python 3",
   "language": "python",
   "name": "python3"
  },
  "language_info": {
   "codemirror_mode": {
    "name": "ipython",
    "version": 3
   },
   "file_extension": ".py",
   "mimetype": "text/x-python",
   "name": "python",
   "nbconvert_exporter": "python",
   "pygments_lexer": "ipython3",
   "version": "3.7.1"
  }
 },
 "nbformat": 4,
 "nbformat_minor": 4
}
